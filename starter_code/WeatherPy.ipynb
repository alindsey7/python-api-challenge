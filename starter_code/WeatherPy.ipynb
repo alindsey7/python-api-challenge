{
 "cells": [
  {
   "cell_type": "markdown",
   "metadata": {},
   "source": [
    "# WeatherPy\n",
    "----\n",
    "\n",
    "#### Note\n",
    "* Instructions have been included for each segment. You do not have to follow them exactly, but they are included to help you think through the steps."
   ]
  },
  {
   "cell_type": "code",
   "execution_count": 1,
   "metadata": {
    "scrolled": true
   },
   "outputs": [],
   "source": [
    "# Dependencies and Setup\n",
    "import matplotlib.pyplot as plt\n",
    "import pandas as pd\n",
    "import numpy as np\n",
    "import requests\n",
    "import time\n",
    "from scipy.stats import linregress\n",
    "import json\n",
    "\n",
    "# Import API key\n",
    "from api_keys import weather_api_key\n",
    "\n",
    "# Incorporated citipy to determine city based on latitude and longitude\n",
    "from citipy import citipy\n",
    "\n",
    "# Output File (CSV)\n",
    "output_data_file = \"output_data/cities.csv\"\n",
    "\n",
    "# Range of latitudes and longitudes\n",
    "lat_range = (-90, 90)\n",
    "lng_range = (-180, 180)"
   ]
  },
  {
   "cell_type": "markdown",
   "metadata": {},
   "source": [
    "## Generate Cities List"
   ]
  },
  {
   "cell_type": "code",
   "execution_count": 2,
   "metadata": {},
   "outputs": [
    {
     "data": {
      "text/plain": [
       "608"
      ]
     },
     "execution_count": 2,
     "metadata": {},
     "output_type": "execute_result"
    }
   ],
   "source": [
    "# List for holding lat_lngs and cities\n",
    "lat_lngs = []\n",
    "cities = []\n",
    "\n",
    "# Create a set of random lat and lng combinations\n",
    "lats = np.random.uniform(lat_range[0], lat_range[1], size=1500)\n",
    "lngs = np.random.uniform(lng_range[0], lng_range[1], size=1500)\n",
    "lat_lngs = zip(lats, lngs)\n",
    "\n",
    "# Identify nearest city for each lat, lng combination\n",
    "for lat_lng in lat_lngs:\n",
    "    city = citipy.nearest_city(lat_lng[0], lat_lng[1]).city_name\n",
    "    \n",
    "    # If the city is unique, then add it to a our cities list\n",
    "    if city not in cities:\n",
    "        cities.append(city)\n",
    "\n",
    "# Print the city count to confirm sufficient count\n",
    "len(cities)"
   ]
  },
  {
   "cell_type": "markdown",
   "metadata": {},
   "source": [
    "### Perform API Calls\n",
    "* Perform a weather check on each city using a series of successive API calls.\n",
    "* Include a print log of each city as it'sbeing processed (with the city number and city name).\n"
   ]
  },
  {
   "cell_type": "code",
   "execution_count": 3,
   "metadata": {
    "scrolled": true
   },
   "outputs": [
    {
     "name": "stdout",
     "output_type": "stream",
     "text": [
      "City number 1 of 608 | atuona\n",
      "City number 2 of 608 | rikitea\n",
      "mys shmidta not found\n",
      "City number 4 of 608 | hermanus\n",
      "City number 5 of 608 | haines junction\n",
      "City number 6 of 608 | aksarka\n",
      "City number 7 of 608 | sulangan\n",
      "solovetskiy not found\n",
      "City number 9 of 608 | puerto ayora\n",
      "City number 10 of 608 | puri\n",
      "City number 11 of 608 | tasiilaq\n",
      "City number 12 of 608 | kindu\n",
      "City number 13 of 608 | chokurdakh\n",
      "tabiauea not found\n",
      "City number 15 of 608 | saint-georges\n",
      "westpunt not found\n",
      "City number 17 of 608 | mataura\n",
      "City number 18 of 608 | upata\n",
      "City number 19 of 608 | jamestown\n",
      "City number 20 of 608 | saint-philippe\n",
      "City number 21 of 608 | busselton\n",
      "City number 22 of 608 | pandan\n",
      "illoqqortoormiut not found\n",
      "City number 24 of 608 | evensk\n",
      "City number 25 of 608 | cidreira\n",
      "City number 26 of 608 | port alfred\n",
      "City number 27 of 608 | vaini\n",
      "City number 28 of 608 | cape town\n",
      "City number 29 of 608 | jerusalem\n",
      "City number 30 of 608 | port lincoln\n",
      "attawapiskat not found\n",
      "City number 32 of 608 | hovd\n",
      "City number 33 of 608 | hithadhoo\n",
      "City number 34 of 608 | rio pardo\n",
      "City number 35 of 608 | punta arenas\n",
      "City number 36 of 608 | dikson\n",
      "City number 37 of 608 | mahebourg\n",
      "City number 38 of 608 | sao filipe\n",
      "City number 39 of 608 | santa rosa\n",
      "City number 40 of 608 | ushuaia\n",
      "City number 41 of 608 | kapit\n",
      "City number 42 of 608 | peniche\n",
      "City number 43 of 608 | marzuq\n",
      "City number 44 of 608 | butaritari\n",
      "City number 45 of 608 | varzelandia\n",
      "City number 46 of 608 | kapaa\n",
      "ngukurr not found\n",
      "City number 48 of 608 | bluff\n",
      "City number 49 of 608 | avarua\n",
      "City number 50 of 608 | souillac\n",
      "City number 51 of 608 | kempele\n",
      "City number 52 of 608 | albany\n",
      "City number 53 of 608 | yangambi\n",
      "samusu not found\n",
      "City number 55 of 608 | calarasi\n",
      "City number 56 of 608 | orumiyeh\n",
      "City number 57 of 608 | qaqortoq\n",
      "City number 58 of 608 | victoria\n",
      "kerteh not found\n",
      "City number 60 of 608 | hirara\n",
      "City number 61 of 608 | bengkulu\n",
      "City number 62 of 608 | westport\n",
      "City number 63 of 608 | richards bay\n",
      "City number 64 of 608 | san francisco\n",
      "City number 65 of 608 | saint anthony\n",
      "City number 66 of 608 | kavaratti\n",
      "City number 67 of 608 | port elizabeth\n",
      "City number 68 of 608 | huancayo\n",
      "City number 69 of 608 | liancheng\n",
      "City number 70 of 608 | kshenskiy\n",
      "satitoa not found\n",
      "City number 72 of 608 | cherskiy\n",
      "City number 73 of 608 | cabo san lucas\n",
      "City number 74 of 608 | pevek\n",
      "City number 75 of 608 | tiksi\n",
      "City number 76 of 608 | fukue\n",
      "City number 77 of 608 | iqaluit\n",
      "City number 78 of 608 | new norfolk\n",
      "City number 79 of 608 | coquimbo\n",
      "City number 80 of 608 | codrington\n",
      "City number 81 of 608 | langsa\n",
      "City number 82 of 608 | iisalmi\n",
      "City number 83 of 608 | pangnirtung\n",
      "City number 84 of 608 | vila franca do campo\n",
      "City number 85 of 608 | kaitangata\n",
      "City number 86 of 608 | komsomolskiy\n",
      "City number 87 of 608 | kawalu\n",
      "City number 88 of 608 | miles city\n",
      "City number 89 of 608 | wajid\n",
      "City number 90 of 608 | raymond\n",
      "taolanaro not found\n",
      "City number 92 of 608 | beringovskiy\n",
      "City number 93 of 608 | manali\n",
      "City number 94 of 608 | brigantine\n",
      "City number 95 of 608 | namatanai\n",
      "amderma not found\n",
      "City number 97 of 608 | narsaq\n",
      "City number 98 of 608 | zhigansk\n",
      "City number 99 of 608 | severo-kurilsk\n",
      "City number 100 of 608 | vila do maio\n",
      "City number 101 of 608 | cururupu\n",
      "City number 102 of 608 | bathsheba\n",
      "City number 103 of 608 | hobart\n",
      "lolua not found\n",
      "City number 105 of 608 | van\n",
      "City number 106 of 608 | mar del plata\n",
      "City number 107 of 608 | kodiak\n",
      "City number 108 of 608 | chuy\n",
      "City number 109 of 608 | mossendjo\n",
      "City number 110 of 608 | thompson\n",
      "City number 111 of 608 | san bartolome\n",
      "City number 112 of 608 | natchitoches\n",
      "saleaula not found\n",
      "City number 114 of 608 | san quintin\n",
      "warqla not found\n",
      "City number 116 of 608 | vanimo\n",
      "vaitupu not found\n",
      "City number 118 of 608 | sao felix do xingu\n",
      "City number 119 of 608 | mitchell\n",
      "City number 120 of 608 | villa del rosario\n",
      "City number 121 of 608 | vrangel\n",
      "City number 122 of 608 | bredasdorp\n",
      "City number 123 of 608 | flin flon\n",
      "City number 124 of 608 | longyearbyen\n",
      "City number 125 of 608 | bambous virieux\n",
      "City number 126 of 608 | sitio novo do tocantins\n",
      "City number 127 of 608 | axim\n",
      "City number 128 of 608 | ilulissat\n",
      "belushya guba not found\n",
      "City number 130 of 608 | sedlcany\n",
      "City number 131 of 608 | rawson\n",
      "City number 132 of 608 | camabatela\n",
      "City number 133 of 608 | portland\n",
      "City number 134 of 608 | jabinyanah\n",
      "City number 135 of 608 | georgetown\n",
      "City number 136 of 608 | sayan\n",
      "City number 137 of 608 | alice springs\n",
      "City number 138 of 608 | lavrentiya\n",
      "City number 139 of 608 | arraial do cabo\n",
      "City number 140 of 608 | guerrero negro\n",
      "City number 141 of 608 | ostersund\n",
      "City number 142 of 608 | taoudenni\n",
      "City number 143 of 608 | kenai\n",
      "City number 144 of 608 | srednekolymsk\n",
      "City number 145 of 608 | geraldton\n",
      "City number 146 of 608 | priiskovyy\n",
      "City number 147 of 608 | vao\n",
      "City number 148 of 608 | vila velha\n",
      "City number 149 of 608 | paamiut\n",
      "City number 150 of 608 | castro\n",
      "City number 151 of 608 | tyup\n",
      "grand river south east not found\n",
      "City number 153 of 608 | ponta do sol\n",
      "City number 154 of 608 | zyryanovsk\n",
      "City number 155 of 608 | bastia\n",
      "City number 156 of 608 | moose factory\n",
      "City number 157 of 608 | colares\n",
      "City number 158 of 608 | jardim\n",
      "ardistan not found\n",
      "City number 160 of 608 | ancud\n",
      "City number 161 of 608 | hilo\n",
      "City number 162 of 608 | yenagoa\n",
      "City number 163 of 608 | alekseyevsk\n",
      "City number 164 of 608 | tuktoyaktuk\n",
      "City number 165 of 608 | krasnyy yar\n",
      "City number 166 of 608 | bubaque\n",
      "City number 167 of 608 | boende\n",
      "City number 168 of 608 | whitewater\n",
      "City number 169 of 608 | barrow\n",
      "City number 170 of 608 | zyryanka\n",
      "City number 171 of 608 | kungurtug\n",
      "City number 172 of 608 | elko\n",
      "City number 173 of 608 | torbay\n",
      "City number 174 of 608 | northam\n",
      "City number 175 of 608 | poum\n",
      "City number 176 of 608 | sibolga\n",
      "City number 177 of 608 | yellowknife\n",
      "City number 178 of 608 | yumen\n",
      "City number 179 of 608 | abay\n",
      "City number 180 of 608 | alliston\n",
      "nizhneyansk not found\n",
      "City number 182 of 608 | tautira\n",
      "City number 183 of 608 | auki\n",
      "City number 184 of 608 | ponerihouen\n",
      "City number 185 of 608 | bereda\n",
      "City number 186 of 608 | petropavlovsk-kamchatskiy\n",
      "City number 187 of 608 | iracoubo\n",
      "City number 188 of 608 | fortuna\n",
      "City number 189 of 608 | faanui\n",
      "City number 190 of 608 | adrar\n",
      "louisbourg not found\n",
      "City number 192 of 608 | fort-shevchenko\n",
      "City number 193 of 608 | kachug\n",
      "City number 194 of 608 | sabang\n",
      "City number 195 of 608 | nacala\n",
      "City number 196 of 608 | kigorobya\n",
      "City number 197 of 608 | tilichiki\n",
      "City number 198 of 608 | camacha\n",
      "City number 199 of 608 | guymon\n",
      "City number 200 of 608 | carnarvon\n",
      "City number 201 of 608 | lompoc\n",
      "City number 202 of 608 | inuvik\n",
      "babanusah not found\n",
      "City number 204 of 608 | nome\n",
      "City number 205 of 608 | contai\n",
      "City number 206 of 608 | mogadishu\n",
      "City number 207 of 608 | brae\n",
      "City number 208 of 608 | east london\n",
      "City number 209 of 608 | kalabo\n",
      "City number 210 of 608 | tonj\n",
      "City number 211 of 608 | morro bay\n",
      "City number 212 of 608 | tacuati\n",
      "City number 213 of 608 | pipri\n",
      "City number 214 of 608 | severo-yeniseyskiy\n",
      "City number 215 of 608 | noumea\n",
      "City number 216 of 608 | burgdorf\n",
      "City number 217 of 608 | nishihara\n",
      "City number 218 of 608 | urengoy\n",
      "City number 219 of 608 | atasu\n",
      "City number 220 of 608 | los llanos de aridane\n",
      "City number 221 of 608 | kaspiysk\n",
      "City number 222 of 608 | strezhevoy\n",
      "City number 223 of 608 | qaanaaq\n",
      "City number 224 of 608 | poddorye\n",
      "City number 225 of 608 | quatre cocos\n",
      "City number 226 of 608 | lubumbashi\n",
      "City number 227 of 608 | gloversville\n",
      "City number 228 of 608 | lebanon\n",
      "City number 229 of 608 | kodinsk\n",
      "City number 230 of 608 | yulara\n",
      "gorno-chuyskiy not found\n",
      "City number 232 of 608 | ribeira grande\n",
      "City number 233 of 608 | nemuro\n",
      "City number 234 of 608 | korla\n",
      "City number 235 of 608 | lar\n",
      "City number 236 of 608 | grindavik\n",
      "City number 237 of 608 | skagen\n",
      "City number 238 of 608 | onverwacht\n",
      "City number 239 of 608 | nouadhibou\n",
      "City number 240 of 608 | maldonado\n",
      "City number 241 of 608 | joensuu\n",
      "City number 242 of 608 | norman wells\n",
      "barentsburg not found\n",
      "City number 244 of 608 | channel-port aux basques\n",
      "City number 245 of 608 | nikolskoye\n",
      "City number 246 of 608 | tessalit\n",
      "City number 247 of 608 | aykhal\n",
      "City number 248 of 608 | marau\n",
      "City number 249 of 608 | muros\n",
      "City number 250 of 608 | sungaipenuh\n"
     ]
    },
    {
     "name": "stdout",
     "output_type": "stream",
     "text": [
      "City number 251 of 608 | beyla\n",
      "City number 252 of 608 | wanganui\n",
      "City number 253 of 608 | maniitsoq\n",
      "City number 254 of 608 | alofi\n",
      "City number 255 of 608 | pitimbu\n",
      "cam pha not found\n",
      "City number 257 of 608 | broome\n",
      "City number 258 of 608 | wachtersbach\n",
      "City number 259 of 608 | broken hill\n",
      "City number 260 of 608 | hobyo\n",
      "City number 261 of 608 | mosquera\n",
      "City number 262 of 608 | halifax\n",
      "City number 263 of 608 | bethel\n",
      "City number 264 of 608 | cradock\n",
      "City number 265 of 608 | palmer\n",
      "City number 266 of 608 | den helder\n",
      "City number 267 of 608 | lingao\n",
      "City number 268 of 608 | tezu\n",
      "City number 269 of 608 | mvuma\n",
      "City number 270 of 608 | carupano\n",
      "City number 271 of 608 | bundaberg\n",
      "City number 272 of 608 | zaozerne\n",
      "City number 273 of 608 | aklavik\n",
      "City number 274 of 608 | agbor\n",
      "City number 275 of 608 | lisala\n",
      "City number 276 of 608 | mandalgovi\n",
      "City number 277 of 608 | chhatak\n",
      "City number 278 of 608 | santa maria\n",
      "City number 279 of 608 | darlawn\n",
      "City number 280 of 608 | knysna\n",
      "City number 281 of 608 | lafiagi\n",
      "City number 282 of 608 | gurupi\n",
      "City number 283 of 608 | skorodnoye\n",
      "City number 284 of 608 | high rock\n",
      "City number 285 of 608 | mayor pablo lagerenza\n",
      "City number 286 of 608 | weyburn\n",
      "ust-kamchatsk not found\n",
      "City number 288 of 608 | bushehr\n",
      "City number 289 of 608 | husavik\n",
      "City number 290 of 608 | grand falls\n",
      "azimur not found\n",
      "City number 292 of 608 | saint-augustin\n",
      "City number 293 of 608 | asau\n",
      "City number 294 of 608 | saldanha\n",
      "City number 295 of 608 | shingu\n",
      "City number 296 of 608 | provideniya\n",
      "City number 297 of 608 | kavieng\n",
      "City number 298 of 608 | leshukonskoye\n",
      "City number 299 of 608 | san-pedro\n",
      "City number 300 of 608 | salalah\n",
      "City number 301 of 608 | andra\n",
      "City number 302 of 608 | khatanga\n",
      "City number 303 of 608 | taltal\n",
      "City number 304 of 608 | gizo\n",
      "City number 305 of 608 | gat\n",
      "City number 306 of 608 | luderitz\n",
      "City number 307 of 608 | north bend\n",
      "City number 308 of 608 | rocha\n",
      "City number 309 of 608 | paracuru\n",
      "City number 310 of 608 | katobu\n",
      "City number 311 of 608 | venado tuerto\n",
      "City number 312 of 608 | hasaki\n",
      "City number 313 of 608 | takoradi\n",
      "City number 314 of 608 | humaita\n",
      "City number 315 of 608 | denizli\n",
      "City number 316 of 608 | neuquen\n",
      "halalo not found\n",
      "City number 318 of 608 | san buenaventura\n",
      "City number 319 of 608 | kaihua\n",
      "City number 320 of 608 | ugento\n",
      "City number 321 of 608 | lipari\n",
      "City number 322 of 608 | hambantota\n",
      "galgani not found\n",
      "City number 324 of 608 | saskylakh\n",
      "City number 325 of 608 | faya\n",
      "City number 326 of 608 | acapulco\n",
      "City number 327 of 608 | sao gabriel da cachoeira\n",
      "City number 328 of 608 | salair\n",
      "City number 329 of 608 | penzance\n",
      "City number 330 of 608 | clyde river\n",
      "City number 331 of 608 | dejen\n",
      "City number 332 of 608 | alta\n",
      "City number 333 of 608 | bangassou\n",
      "City number 334 of 608 | vestmannaeyjar\n",
      "City number 335 of 608 | mount isa\n",
      "City number 336 of 608 | port hedland\n",
      "City number 337 of 608 | sola\n",
      "City number 338 of 608 | mitu\n",
      "sahrak not found\n",
      "City number 340 of 608 | mehamn\n",
      "City number 341 of 608 | salinopolis\n",
      "City number 342 of 608 | xunchang\n",
      "City number 343 of 608 | ust-kishert\n",
      "City number 344 of 608 | lindi\n",
      "City number 345 of 608 | progreso\n",
      "City number 346 of 608 | nanortalik\n",
      "City number 347 of 608 | dingle\n",
      "City number 348 of 608 | estelle\n",
      "City number 349 of 608 | byron bay\n",
      "City number 350 of 608 | athabasca\n",
      "City number 351 of 608 | bahia blanca\n",
      "City number 352 of 608 | ahipara\n",
      "City number 353 of 608 | ipixuna\n",
      "City number 354 of 608 | avera\n",
      "City number 355 of 608 | lensk\n",
      "City number 356 of 608 | pacific grove\n",
      "City number 357 of 608 | guiratinga\n",
      "City number 358 of 608 | marsa matruh\n",
      "City number 359 of 608 | ust-kut\n",
      "City number 360 of 608 | sechura\n",
      "City number 361 of 608 | tianpeng\n",
      "City number 362 of 608 | kalaleh\n",
      "City number 363 of 608 | bollnas\n",
      "City number 364 of 608 | prince rupert\n",
      "City number 365 of 608 | havre-saint-pierre\n",
      "City number 366 of 608 | basco\n",
      "City number 367 of 608 | sept-iles\n",
      "City number 368 of 608 | basti\n",
      "City number 369 of 608 | kailua\n",
      "City number 370 of 608 | pringsewu\n",
      "City number 371 of 608 | san policarpo\n",
      "City number 372 of 608 | purificacion\n",
      "City number 373 of 608 | aswan\n",
      "City number 374 of 608 | vetlanda\n",
      "City number 375 of 608 | tevaitoa\n",
      "City number 376 of 608 | samana\n",
      "City number 377 of 608 | coahuayana\n",
      "City number 378 of 608 | ryotsu\n",
      "City number 379 of 608 | havelock\n",
      "tsihombe not found\n",
      "City number 381 of 608 | airai\n",
      "City number 382 of 608 | loukhi\n",
      "City number 383 of 608 | yetkul\n",
      "City number 384 of 608 | lebu\n",
      "City number 385 of 608 | tuatapere\n",
      "City number 386 of 608 | khandyga\n",
      "dzhusaly not found\n",
      "City number 388 of 608 | san patricio\n",
      "City number 389 of 608 | arman\n",
      "City number 390 of 608 | yar-sale\n",
      "City number 391 of 608 | bang saphan\n",
      "City number 392 of 608 | dunedin\n",
      "City number 393 of 608 | oranjemund\n",
      "City number 394 of 608 | klaksvik\n",
      "umzimvubu not found\n",
      "City number 396 of 608 | sitka\n",
      "City number 397 of 608 | ponta delgada\n",
      "City number 398 of 608 | mackay\n",
      "City number 399 of 608 | kruisfontein\n",
      "City number 400 of 608 | buala\n",
      "City number 401 of 608 | katherine\n",
      "City number 402 of 608 | kamloops\n",
      "City number 403 of 608 | eyemouth\n",
      "City number 404 of 608 | alpena\n",
      "City number 405 of 608 | yaguacire\n",
      "City number 406 of 608 | opuwo\n",
      "City number 407 of 608 | bidar\n",
      "City number 408 of 608 | jumla\n",
      "City number 409 of 608 | marsh harbour\n",
      "City number 410 of 608 | tombouctou\n",
      "City number 411 of 608 | asbe teferi\n",
      "City number 412 of 608 | talnakh\n",
      "City number 413 of 608 | cabo rojo\n",
      "City number 414 of 608 | guanica\n",
      "City number 415 of 608 | port shepstone\n",
      "City number 416 of 608 | pisco\n",
      "City number 417 of 608 | miguel hidalgo\n",
      "City number 418 of 608 | trairi\n",
      "City number 419 of 608 | tabou\n",
      "City number 420 of 608 | tshikapa\n",
      "City number 421 of 608 | waingapu\n",
      "City number 422 of 608 | aztec\n",
      "City number 423 of 608 | ohringen\n",
      "City number 424 of 608 | kathmandu\n",
      "City number 425 of 608 | boa esperanca\n",
      "City number 426 of 608 | diamantino\n",
      "City number 427 of 608 | atambua\n",
      "City number 428 of 608 | rincon\n",
      "City number 429 of 608 | shawnee\n",
      "City number 430 of 608 | revda\n",
      "City number 431 of 608 | dunda\n",
      "City number 432 of 608 | casper\n",
      "City number 433 of 608 | novyy urengoy\n",
      "City number 434 of 608 | maceio\n",
      "City number 435 of 608 | ayia marina\n",
      "City number 436 of 608 | novoagansk\n",
      "City number 437 of 608 | nailsea\n",
      "toftir not found\n",
      "City number 439 of 608 | hay river\n",
      "City number 440 of 608 | hofn\n",
      "City number 441 of 608 | beloha\n",
      "City number 442 of 608 | payakumbuh\n",
      "City number 443 of 608 | manta\n",
      "City number 444 of 608 | kloulklubed\n",
      "City number 445 of 608 | insar\n",
      "City number 446 of 608 | guajara\n",
      "City number 447 of 608 | leningradskiy\n",
      "sentyabrskiy not found\n",
      "City number 449 of 608 | diego de almagro\n",
      "City number 450 of 608 | zhaoyuan\n",
      "City number 451 of 608 | cayenne\n",
      "City number 452 of 608 | harstad\n",
      "City number 453 of 608 | port blair\n",
      "City number 454 of 608 | tahta\n",
      "City number 455 of 608 | ziyang\n",
      "City number 456 of 608 | svetlyy\n",
      "yandoon not found\n",
      "City number 458 of 608 | dhidhdhoo\n",
      "City number 459 of 608 | darab\n",
      "City number 460 of 608 | esperance\n",
      "City number 461 of 608 | bobrovka\n",
      "City number 462 of 608 | kazachinskoye\n",
      "City number 463 of 608 | ust-kulom\n",
      "City number 464 of 608 | ingham\n",
      "City number 465 of 608 | west wendover\n",
      "City number 466 of 608 | tiznit\n",
      "City number 467 of 608 | nhulunbuy\n",
      "City number 468 of 608 | isangel\n",
      "City number 469 of 608 | quimperle\n",
      "City number 470 of 608 | waipawa\n",
      "City number 471 of 608 | flinders\n",
      "City number 472 of 608 | petatlan\n",
      "City number 473 of 608 | bergen\n",
      "City number 474 of 608 | camapua\n",
      "City number 475 of 608 | labuhan\n",
      "City number 476 of 608 | rivers\n",
      "City number 477 of 608 | naples park\n",
      "City number 478 of 608 | bucerias\n",
      "City number 479 of 608 | ponca city\n",
      "City number 480 of 608 | tadine\n",
      "City number 481 of 608 | williams lake\n",
      "City number 482 of 608 | calama\n",
      "City number 483 of 608 | bose\n",
      "City number 484 of 608 | constitucion\n",
      "City number 485 of 608 | mount gambier\n",
      "City number 486 of 608 | socorro\n",
      "City number 487 of 608 | natal\n",
      "meyungs not found\n",
      "City number 489 of 608 | poya\n",
      "City number 490 of 608 | waitati\n",
      "City number 491 of 608 | teguise\n",
      "City number 492 of 608 | kirakira\n",
      "City number 493 of 608 | hamilton\n",
      "City number 494 of 608 | tromso\n",
      "City number 495 of 608 | acari\n",
      "City number 496 of 608 | alugan\n",
      "City number 497 of 608 | upernavik\n"
     ]
    },
    {
     "name": "stdout",
     "output_type": "stream",
     "text": [
      "City number 498 of 608 | coihaique\n",
      "City number 499 of 608 | erzin\n",
      "City number 500 of 608 | lianran\n",
      "City number 501 of 608 | olafsvik\n",
      "City number 502 of 608 | karakulino\n",
      "City number 503 of 608 | okha\n",
      "sorvag not found\n",
      "City number 505 of 608 | kahului\n",
      "plackovci not found\n",
      "City number 507 of 608 | lisbon\n",
      "City number 508 of 608 | anshun\n",
      "City number 509 of 608 | birobidzhan\n",
      "City number 510 of 608 | ambon\n",
      "City number 511 of 608 | atherton\n",
      "City number 512 of 608 | muli\n",
      "City number 513 of 608 | yeniseysk\n",
      "City number 514 of 608 | quang ngai\n",
      "City number 515 of 608 | socastee\n",
      "City number 516 of 608 | georgiyevskoye\n",
      "City number 517 of 608 | sinnamary\n",
      "City number 518 of 608 | san andres\n",
      "City number 519 of 608 | ribas do rio pardo\n",
      "City number 520 of 608 | batagay\n",
      "City number 521 of 608 | wuwei\n",
      "City number 522 of 608 | souris\n",
      "City number 523 of 608 | prado\n",
      "City number 524 of 608 | uvinza\n",
      "City number 525 of 608 | matara\n",
      "City number 526 of 608 | port macquarie\n",
      "City number 527 of 608 | lardos\n",
      "City number 528 of 608 | reno\n",
      "City number 529 of 608 | kasongo-lunda\n",
      "City number 530 of 608 | grand gaube\n",
      "City number 531 of 608 | portage\n",
      "City number 532 of 608 | ystad\n",
      "City number 533 of 608 | cockburn town\n",
      "City number 534 of 608 | drexel heights\n",
      "City number 535 of 608 | laguna\n",
      "City number 536 of 608 | khaga\n",
      "City number 537 of 608 | bhikangaon\n",
      "City number 538 of 608 | shaoyang\n",
      "City number 539 of 608 | rio gallegos\n",
      "City number 540 of 608 | rudbar\n",
      "City number 541 of 608 | araci\n",
      "City number 542 of 608 | buritizeiro\n",
      "City number 543 of 608 | malazgirt\n",
      "City number 544 of 608 | bunol\n",
      "City number 545 of 608 | houma\n",
      "City number 546 of 608 | katsuura\n",
      "City number 547 of 608 | benghazi\n",
      "bolungarvik not found\n",
      "City number 549 of 608 | suntar\n",
      "City number 550 of 608 | touros\n",
      "City number 551 of 608 | luba\n",
      "City number 552 of 608 | anori\n",
      "City number 553 of 608 | deputatskiy\n",
      "City number 554 of 608 | okhotsk\n",
      "City number 555 of 608 | turje\n",
      "City number 556 of 608 | nouakchott\n",
      "City number 557 of 608 | bunia\n",
      "City number 558 of 608 | manturovo\n",
      "City number 559 of 608 | xacmaz\n",
      "City number 560 of 608 | valparaiso\n",
      "City number 561 of 608 | eureka\n",
      "City number 562 of 608 | kangaatsiaq\n",
      "City number 563 of 608 | changchun\n",
      "City number 564 of 608 | vung tau\n",
      "City number 565 of 608 | mokhsogollokh\n",
      "City number 566 of 608 | nagato\n",
      "City number 567 of 608 | hikone\n",
      "City number 568 of 608 | new albany\n",
      "City number 569 of 608 | borgosesia\n",
      "City number 570 of 608 | makakilo city\n",
      "City number 571 of 608 | samarai\n",
      "City number 572 of 608 | marawi\n",
      "City number 573 of 608 | batouri\n",
      "sedelnikovo not found\n",
      "City number 575 of 608 | akyab\n",
      "City number 576 of 608 | guarapari\n",
      "City number 577 of 608 | otane\n",
      "City number 578 of 608 | college\n",
      "City number 579 of 608 | paita\n",
      "City number 580 of 608 | serebryansk\n",
      "City number 581 of 608 | batemans bay\n",
      "City number 582 of 608 | ndele\n",
      "hvammstangi not found\n",
      "City number 584 of 608 | praia da vitoria\n",
      "City number 585 of 608 | kolokani\n",
      "City number 586 of 608 | cap malheureux\n",
      "City number 587 of 608 | naryan-mar\n",
      "City number 588 of 608 | khakhea\n",
      "City number 589 of 608 | andenes\n",
      "City number 590 of 608 | marystown\n",
      "toungoo not found\n",
      "City number 592 of 608 | karratha\n",
      "City number 593 of 608 | kangasala\n",
      "City number 594 of 608 | ornskoldsvik\n",
      "City number 595 of 608 | ocos\n",
      "City number 596 of 608 | san cristobal\n",
      "City number 597 of 608 | matamoros\n",
      "City number 598 of 608 | porto novo\n",
      "City number 599 of 608 | anqing\n",
      "City number 600 of 608 | pampa\n",
      "City number 601 of 608 | padang\n",
      "City number 602 of 608 | bud\n",
      "City number 603 of 608 | nanakuli\n",
      "vichayal not found\n",
      "City number 605 of 608 | angoche\n",
      "City number 606 of 608 | oranjestad\n",
      "City number 607 of 608 | banjar\n",
      "City number 608 of 608 | kimbe\n"
     ]
    }
   ],
   "source": [
    "# Save config information\n",
    "url = \"http://api.openweathermap.org/data/2.5/weather?\"\n",
    "count = 1\n",
    "cities_final = []\n",
    "temp = []\n",
    "humidity = []\n",
    "cloud = []\n",
    "wind = []\n",
    "lat = []\n",
    "lng = []\n",
    "country = []\n",
    "time = []\n",
    "\n",
    "for city in cities:\n",
    "    # Build query URL\n",
    "    query_url = url + \"appid=\" + weather_api_key + \"&q=\" + city\n",
    "    \n",
    "    weather_response = requests.get(query_url)\n",
    "    weather_json = weather_response.json()\n",
    "    \n",
    "    \n",
    "    try:\n",
    "        temp.append(weather_json['main']['temp'])\n",
    "        humidity.append(weather_json['main']['humidity'])\n",
    "        cloud.append(weather_json['clouds']['all'])\n",
    "        wind.append(weather_json['wind']['speed'])\n",
    "        lat.append(weather_json['coord']['lat'])\n",
    "        lng.append(weather_json['coord']['lon'])\n",
    "        cities_final.append(weather_json['name'])\n",
    "        country.append(weather_json['sys']['country'])\n",
    "        time.append(weather_json['dt'])\n",
    "        print(f'City number {count} of {len(cities)} | {city}')\n",
    "    except:\n",
    "        print(f'{city} not found')\n",
    "        \n",
    "        \n",
    "    \n",
    "    count += 1"
   ]
  },
  {
   "cell_type": "markdown",
   "metadata": {},
   "source": [
    "### Convert Raw Data to DataFrame\n",
    "* Export the city data into a .csv.\n",
    "* Display the DataFrame"
   ]
  },
  {
   "cell_type": "code",
   "execution_count": 4,
   "metadata": {},
   "outputs": [
    {
     "data": {
      "text/html": [
       "<div>\n",
       "<style scoped>\n",
       "    .dataframe tbody tr th:only-of-type {\n",
       "        vertical-align: middle;\n",
       "    }\n",
       "\n",
       "    .dataframe tbody tr th {\n",
       "        vertical-align: top;\n",
       "    }\n",
       "\n",
       "    .dataframe thead th {\n",
       "        text-align: right;\n",
       "    }\n",
       "</style>\n",
       "<table border=\"1\" class=\"dataframe\">\n",
       "  <thead>\n",
       "    <tr style=\"text-align: right;\">\n",
       "      <th></th>\n",
       "      <th>City</th>\n",
       "      <th>Lat</th>\n",
       "      <th>Lng</th>\n",
       "      <th>Temperature</th>\n",
       "      <th>Humidity</th>\n",
       "      <th>Cloudiness</th>\n",
       "      <th>Wind Speed</th>\n",
       "      <th>Country</th>\n",
       "      <th>Date</th>\n",
       "    </tr>\n",
       "  </thead>\n",
       "  <tbody>\n",
       "    <tr>\n",
       "      <th>0</th>\n",
       "      <td>Atuona</td>\n",
       "      <td>-9.8000</td>\n",
       "      <td>-139.0333</td>\n",
       "      <td>78.998</td>\n",
       "      <td>76</td>\n",
       "      <td>36</td>\n",
       "      <td>14.383500</td>\n",
       "      <td>PF</td>\n",
       "      <td>1651341059</td>\n",
       "    </tr>\n",
       "    <tr>\n",
       "      <th>1</th>\n",
       "      <td>Rikitea</td>\n",
       "      <td>-23.1203</td>\n",
       "      <td>-134.9692</td>\n",
       "      <td>75.848</td>\n",
       "      <td>76</td>\n",
       "      <td>58</td>\n",
       "      <td>14.316392</td>\n",
       "      <td>PF</td>\n",
       "      <td>1651341245</td>\n",
       "    </tr>\n",
       "    <tr>\n",
       "      <th>2</th>\n",
       "      <td>Hermanus</td>\n",
       "      <td>-34.4187</td>\n",
       "      <td>19.2345</td>\n",
       "      <td>52.808</td>\n",
       "      <td>86</td>\n",
       "      <td>38</td>\n",
       "      <td>4.205440</td>\n",
       "      <td>ZA</td>\n",
       "      <td>1651341256</td>\n",
       "    </tr>\n",
       "    <tr>\n",
       "      <th>3</th>\n",
       "      <td>Haines Junction</td>\n",
       "      <td>60.7522</td>\n",
       "      <td>-137.5108</td>\n",
       "      <td>40.946</td>\n",
       "      <td>56</td>\n",
       "      <td>79</td>\n",
       "      <td>1.140838</td>\n",
       "      <td>CA</td>\n",
       "      <td>1651341256</td>\n",
       "    </tr>\n",
       "    <tr>\n",
       "      <th>4</th>\n",
       "      <td>Aksarka</td>\n",
       "      <td>66.5606</td>\n",
       "      <td>67.7975</td>\n",
       "      <td>16.520</td>\n",
       "      <td>91</td>\n",
       "      <td>95</td>\n",
       "      <td>7.381890</td>\n",
       "      <td>RU</td>\n",
       "      <td>1651341257</td>\n",
       "    </tr>\n",
       "  </tbody>\n",
       "</table>\n",
       "</div>"
      ],
      "text/plain": [
       "              City      Lat       Lng  Temperature  Humidity  Cloudiness  \\\n",
       "0           Atuona  -9.8000 -139.0333       78.998        76          36   \n",
       "1          Rikitea -23.1203 -134.9692       75.848        76          58   \n",
       "2         Hermanus -34.4187   19.2345       52.808        86          38   \n",
       "3  Haines Junction  60.7522 -137.5108       40.946        56          79   \n",
       "4          Aksarka  66.5606   67.7975       16.520        91          95   \n",
       "\n",
       "   Wind Speed Country        Date  \n",
       "0   14.383500      PF  1651341059  \n",
       "1   14.316392      PF  1651341245  \n",
       "2    4.205440      ZA  1651341256  \n",
       "3    1.140838      CA  1651341256  \n",
       "4    7.381890      RU  1651341257  "
      ]
     },
     "execution_count": 4,
     "metadata": {},
     "output_type": "execute_result"
    }
   ],
   "source": [
    "weather_dict = {\n",
    "    'City' : cities_final,\n",
    "    'Lat' : lat,\n",
    "    'Lng' : lng,\n",
    "    'Temperature' : temp,\n",
    "    'Humidity' : humidity,\n",
    "    'Cloudiness' : cloud,\n",
    "    'Wind Speed' : wind,\n",
    "    'Country' : country,\n",
    "    'Date' : time\n",
    "}\n",
    "weather_data = pd.DataFrame(weather_dict)\n",
    "weather_data['Temperature'] = weather_data['Temperature'].astype('float') * 1.8 -459.67\n",
    "weather_data['Wind Speed'] = weather_data['Wind Speed'].astype('float') * 2.23693629\n",
    "weather_data.head()"
   ]
  },
  {
   "cell_type": "code",
   "execution_count": 5,
   "metadata": {},
   "outputs": [
    {
     "data": {
      "text/html": [
       "<div>\n",
       "<style scoped>\n",
       "    .dataframe tbody tr th:only-of-type {\n",
       "        vertical-align: middle;\n",
       "    }\n",
       "\n",
       "    .dataframe tbody tr th {\n",
       "        vertical-align: top;\n",
       "    }\n",
       "\n",
       "    .dataframe thead th {\n",
       "        text-align: right;\n",
       "    }\n",
       "</style>\n",
       "<table border=\"1\" class=\"dataframe\">\n",
       "  <thead>\n",
       "    <tr style=\"text-align: right;\">\n",
       "      <th></th>\n",
       "      <th>Lat</th>\n",
       "      <th>Lng</th>\n",
       "      <th>Temperature</th>\n",
       "      <th>Humidity</th>\n",
       "      <th>Cloudiness</th>\n",
       "      <th>Wind Speed</th>\n",
       "      <th>Date</th>\n",
       "    </tr>\n",
       "  </thead>\n",
       "  <tbody>\n",
       "    <tr>\n",
       "      <th>count</th>\n",
       "      <td>564.000000</td>\n",
       "      <td>564.000000</td>\n",
       "      <td>564.000000</td>\n",
       "      <td>564.000000</td>\n",
       "      <td>564.000000</td>\n",
       "      <td>564.000000</td>\n",
       "      <td>5.640000e+02</td>\n",
       "    </tr>\n",
       "    <tr>\n",
       "      <th>mean</th>\n",
       "      <td>20.334943</td>\n",
       "      <td>13.883464</td>\n",
       "      <td>61.773883</td>\n",
       "      <td>68.872340</td>\n",
       "      <td>59.340426</td>\n",
       "      <td>8.236368</td>\n",
       "      <td>1.651341e+09</td>\n",
       "    </tr>\n",
       "    <tr>\n",
       "      <th>std</th>\n",
       "      <td>33.233427</td>\n",
       "      <td>91.282689</td>\n",
       "      <td>20.248602</td>\n",
       "      <td>21.304392</td>\n",
       "      <td>38.068804</td>\n",
       "      <td>5.221312</td>\n",
       "      <td>1.091264e+02</td>\n",
       "    </tr>\n",
       "    <tr>\n",
       "      <th>min</th>\n",
       "      <td>-54.800000</td>\n",
       "      <td>-175.200000</td>\n",
       "      <td>-4.900000</td>\n",
       "      <td>6.000000</td>\n",
       "      <td>0.000000</td>\n",
       "      <td>0.000000</td>\n",
       "      <td>1.651341e+09</td>\n",
       "    </tr>\n",
       "    <tr>\n",
       "      <th>25%</th>\n",
       "      <td>-6.511200</td>\n",
       "      <td>-66.513575</td>\n",
       "      <td>49.563500</td>\n",
       "      <td>56.000000</td>\n",
       "      <td>20.000000</td>\n",
       "      <td>4.317287</td>\n",
       "      <td>1.651341e+09</td>\n",
       "    </tr>\n",
       "    <tr>\n",
       "      <th>50%</th>\n",
       "      <td>24.861350</td>\n",
       "      <td>16.673000</td>\n",
       "      <td>63.896000</td>\n",
       "      <td>74.000000</td>\n",
       "      <td>73.000000</td>\n",
       "      <td>7.046349</td>\n",
       "      <td>1.651341e+09</td>\n",
       "    </tr>\n",
       "    <tr>\n",
       "      <th>75%</th>\n",
       "      <td>48.174550</td>\n",
       "      <td>93.787425</td>\n",
       "      <td>78.129500</td>\n",
       "      <td>85.000000</td>\n",
       "      <td>99.000000</td>\n",
       "      <td>11.369229</td>\n",
       "      <td>1.651341e+09</td>\n",
       "    </tr>\n",
       "    <tr>\n",
       "      <th>max</th>\n",
       "      <td>78.218600</td>\n",
       "      <td>179.316700</td>\n",
       "      <td>103.298000</td>\n",
       "      <td>100.000000</td>\n",
       "      <td>100.000000</td>\n",
       "      <td>34.672512</td>\n",
       "      <td>1.651342e+09</td>\n",
       "    </tr>\n",
       "  </tbody>\n",
       "</table>\n",
       "</div>"
      ],
      "text/plain": [
       "              Lat         Lng  Temperature    Humidity  Cloudiness  \\\n",
       "count  564.000000  564.000000   564.000000  564.000000  564.000000   \n",
       "mean    20.334943   13.883464    61.773883   68.872340   59.340426   \n",
       "std     33.233427   91.282689    20.248602   21.304392   38.068804   \n",
       "min    -54.800000 -175.200000    -4.900000    6.000000    0.000000   \n",
       "25%     -6.511200  -66.513575    49.563500   56.000000   20.000000   \n",
       "50%     24.861350   16.673000    63.896000   74.000000   73.000000   \n",
       "75%     48.174550   93.787425    78.129500   85.000000   99.000000   \n",
       "max     78.218600  179.316700   103.298000  100.000000  100.000000   \n",
       "\n",
       "       Wind Speed          Date  \n",
       "count  564.000000  5.640000e+02  \n",
       "mean     8.236368  1.651341e+09  \n",
       "std      5.221312  1.091264e+02  \n",
       "min      0.000000  1.651341e+09  \n",
       "25%      4.317287  1.651341e+09  \n",
       "50%      7.046349  1.651341e+09  \n",
       "75%     11.369229  1.651341e+09  \n",
       "max     34.672512  1.651342e+09  "
      ]
     },
     "execution_count": 5,
     "metadata": {},
     "output_type": "execute_result"
    }
   ],
   "source": [
    "weather_data.describe()"
   ]
  },
  {
   "cell_type": "markdown",
   "metadata": {},
   "source": [
    "## Inspect the data and remove the cities where the humidity > 100%.\n",
    "----\n",
    "Skip this step if there are no cities that have humidity > 100%. "
   ]
  },
  {
   "cell_type": "code",
   "execution_count": 6,
   "metadata": {},
   "outputs": [
    {
     "data": {
      "text/html": [
       "<div>\n",
       "<style scoped>\n",
       "    .dataframe tbody tr th:only-of-type {\n",
       "        vertical-align: middle;\n",
       "    }\n",
       "\n",
       "    .dataframe tbody tr th {\n",
       "        vertical-align: top;\n",
       "    }\n",
       "\n",
       "    .dataframe thead th {\n",
       "        text-align: right;\n",
       "    }\n",
       "</style>\n",
       "<table border=\"1\" class=\"dataframe\">\n",
       "  <thead>\n",
       "    <tr style=\"text-align: right;\">\n",
       "      <th></th>\n",
       "      <th>Lat</th>\n",
       "      <th>Lng</th>\n",
       "      <th>Temperature</th>\n",
       "      <th>Humidity</th>\n",
       "      <th>Cloudiness</th>\n",
       "      <th>Wind Speed</th>\n",
       "      <th>Date</th>\n",
       "    </tr>\n",
       "  </thead>\n",
       "  <tbody>\n",
       "    <tr>\n",
       "      <th>count</th>\n",
       "      <td>564.000000</td>\n",
       "      <td>564.000000</td>\n",
       "      <td>564.000000</td>\n",
       "      <td>564.000000</td>\n",
       "      <td>564.000000</td>\n",
       "      <td>564.000000</td>\n",
       "      <td>5.640000e+02</td>\n",
       "    </tr>\n",
       "    <tr>\n",
       "      <th>mean</th>\n",
       "      <td>20.334943</td>\n",
       "      <td>13.883464</td>\n",
       "      <td>61.773883</td>\n",
       "      <td>68.872340</td>\n",
       "      <td>59.340426</td>\n",
       "      <td>8.236368</td>\n",
       "      <td>1.651341e+09</td>\n",
       "    </tr>\n",
       "    <tr>\n",
       "      <th>std</th>\n",
       "      <td>33.233427</td>\n",
       "      <td>91.282689</td>\n",
       "      <td>20.248602</td>\n",
       "      <td>21.304392</td>\n",
       "      <td>38.068804</td>\n",
       "      <td>5.221312</td>\n",
       "      <td>1.091264e+02</td>\n",
       "    </tr>\n",
       "    <tr>\n",
       "      <th>min</th>\n",
       "      <td>-54.800000</td>\n",
       "      <td>-175.200000</td>\n",
       "      <td>-4.900000</td>\n",
       "      <td>6.000000</td>\n",
       "      <td>0.000000</td>\n",
       "      <td>0.000000</td>\n",
       "      <td>1.651341e+09</td>\n",
       "    </tr>\n",
       "    <tr>\n",
       "      <th>25%</th>\n",
       "      <td>-6.511200</td>\n",
       "      <td>-66.513575</td>\n",
       "      <td>49.563500</td>\n",
       "      <td>56.000000</td>\n",
       "      <td>20.000000</td>\n",
       "      <td>4.317287</td>\n",
       "      <td>1.651341e+09</td>\n",
       "    </tr>\n",
       "    <tr>\n",
       "      <th>50%</th>\n",
       "      <td>24.861350</td>\n",
       "      <td>16.673000</td>\n",
       "      <td>63.896000</td>\n",
       "      <td>74.000000</td>\n",
       "      <td>73.000000</td>\n",
       "      <td>7.046349</td>\n",
       "      <td>1.651341e+09</td>\n",
       "    </tr>\n",
       "    <tr>\n",
       "      <th>75%</th>\n",
       "      <td>48.174550</td>\n",
       "      <td>93.787425</td>\n",
       "      <td>78.129500</td>\n",
       "      <td>85.000000</td>\n",
       "      <td>99.000000</td>\n",
       "      <td>11.369229</td>\n",
       "      <td>1.651341e+09</td>\n",
       "    </tr>\n",
       "    <tr>\n",
       "      <th>max</th>\n",
       "      <td>78.218600</td>\n",
       "      <td>179.316700</td>\n",
       "      <td>103.298000</td>\n",
       "      <td>100.000000</td>\n",
       "      <td>100.000000</td>\n",
       "      <td>34.672512</td>\n",
       "      <td>1.651342e+09</td>\n",
       "    </tr>\n",
       "  </tbody>\n",
       "</table>\n",
       "</div>"
      ],
      "text/plain": [
       "              Lat         Lng  Temperature    Humidity  Cloudiness  \\\n",
       "count  564.000000  564.000000   564.000000  564.000000  564.000000   \n",
       "mean    20.334943   13.883464    61.773883   68.872340   59.340426   \n",
       "std     33.233427   91.282689    20.248602   21.304392   38.068804   \n",
       "min    -54.800000 -175.200000    -4.900000    6.000000    0.000000   \n",
       "25%     -6.511200  -66.513575    49.563500   56.000000   20.000000   \n",
       "50%     24.861350   16.673000    63.896000   74.000000   73.000000   \n",
       "75%     48.174550   93.787425    78.129500   85.000000   99.000000   \n",
       "max     78.218600  179.316700   103.298000  100.000000  100.000000   \n",
       "\n",
       "       Wind Speed          Date  \n",
       "count  564.000000  5.640000e+02  \n",
       "mean     8.236368  1.651341e+09  \n",
       "std      5.221312  1.091264e+02  \n",
       "min      0.000000  1.651341e+09  \n",
       "25%      4.317287  1.651341e+09  \n",
       "50%      7.046349  1.651341e+09  \n",
       "75%     11.369229  1.651341e+09  \n",
       "max     34.672512  1.651342e+09  "
      ]
     },
     "execution_count": 6,
     "metadata": {},
     "output_type": "execute_result"
    }
   ],
   "source": [
    "weather_data = weather_data.loc[weather_data['Humidity'] <= 100]\n",
    "weather_data.describe()"
   ]
  },
  {
   "cell_type": "code",
   "execution_count": 7,
   "metadata": {},
   "outputs": [
    {
     "name": "stdout",
     "output_type": "stream",
     "text": [
      "Int64Index([], dtype='int64')\n"
     ]
    }
   ],
   "source": [
    "#  Get the indices of cities that have humidity over 100%.\n",
    "over_100 = weather_data.loc[weather_data['Humidity'] > 100]\n",
    "print(over_100.index)"
   ]
  },
  {
   "cell_type": "code",
   "execution_count": 8,
   "metadata": {},
   "outputs": [],
   "source": [
    "# Make a new DataFrame equal to the city data to drop all humidity outliers by index.\n",
    "# Passing \"inplace=False\" will make a copy of the city_data DataFrame, which we call \"clean_city_data\".\n"
   ]
  },
  {
   "cell_type": "code",
   "execution_count": null,
   "metadata": {},
   "outputs": [],
   "source": [
    "\n"
   ]
  },
  {
   "cell_type": "markdown",
   "metadata": {},
   "source": [
    "## Plotting the Data\n",
    "* Use proper labeling of the plots using plot titles (including date of analysis) and axes labels.\n",
    "* Save the plotted figures as .pngs."
   ]
  },
  {
   "cell_type": "markdown",
   "metadata": {},
   "source": [
    "## Latitude vs. Temperature Plot"
   ]
  },
  {
   "cell_type": "code",
   "execution_count": 9,
   "metadata": {
    "scrolled": true
   },
   "outputs": [
    {
     "data": {
      "image/png": "[encoded data removed]",
      "text/plain": [
       "<Figure size 432x288 with 1 Axes>"
      ]
     },
     "metadata": {
      "needs_background": "light"
     },
     "output_type": "display_data"
    }
   ],
   "source": [
    "plt.scatter(weather_data[\"Lat\"], weather_data[\"Temperature\"])\n",
    "plt.title('Latitude vs Temp')\n",
    "plt.xlabel(\"Latitude\")\n",
    "plt.ylabel(\"Temperature\")\n",
    "plt.savefig('../output_data/Lat_v_Temp')\n",
    "plt.show()\n",
    "\n"
   ]
  },
  {
   "cell_type": "markdown",
   "metadata": {},
   "source": [
    "## Latitude vs. Humidity Plot"
   ]
  },
  {
   "cell_type": "code",
   "execution_count": 10,
   "metadata": {},
   "outputs": [
    {
     "data": {
      "image/png": "[encoded data removed]",
      "text/plain": [
       "<Figure size 432x288 with 1 Axes>"
      ]
     },
     "metadata": {
      "needs_background": "light"
     },
     "output_type": "display_data"
    }
   ],
   "source": [
    "plt.scatter(weather_data[\"Lat\"], weather_data[\"Humidity\"])\n",
    "plt.title('Latitude vs Humidity')\n",
    "plt.xlabel('Latitude')\n",
    "plt.ylabel('Humidity')\n",
    "plt.savefig('../output_data/Lat_v_Humid')\n",
    "plt.show()"
   ]
  },
  {
   "cell_type": "markdown",
   "metadata": {},
   "source": [
    "## Latitude vs. Cloudiness Plot"
   ]
  },
  {
   "cell_type": "code",
   "execution_count": 11,
   "metadata": {},
   "outputs": [
    {
     "data": {
      "image/png": "[encoded data removed]",
      "text/plain": [
       "<Figure size 432x288 with 1 Axes>"
      ]
     },
     "metadata": {
      "needs_background": "light"
     },
     "output_type": "display_data"
    }
   ],
   "source": [
    "plt.scatter(weather_data[\"Lat\"], weather_data[\"Cloudiness\"])\n",
    "plt.title('Latitude vs Cloudiness')\n",
    "plt.xlabel(\"Latitude\")\n",
    "plt.ylabel(\"Cloudiness\")\n",
    "plt.savefig('../output_data/Lat_v_Cloud')\n",
    "plt.show()"
   ]
  },
  {
   "cell_type": "markdown",
   "metadata": {},
   "source": [
    "## Latitude vs. Wind Speed Plot"
   ]
  },
  {
   "cell_type": "code",
   "execution_count": 12,
   "metadata": {},
   "outputs": [
    {
     "data": {
      "image/png": "[encoded data removed]",
      "text/plain": [
       "<Figure size 432x288 with 1 Axes>"
      ]
     },
     "metadata": {
      "needs_background": "light"
     },
     "output_type": "display_data"
    }
   ],
   "source": [
    "plt.scatter(weather_data[\"Lat\"], weather_data[\"Wind Speed\"])\n",
    "plt.title('Latitude vs Cloudiness')\n",
    "plt.xlabel(\"Latitude\")\n",
    "plt.ylabel(\"Cloudiness\")\n",
    "plt.savefig('../output_data/Lat_v_Wind')\n",
    "plt.show()"
   ]
  },
  {
   "cell_type": "markdown",
   "metadata": {},
   "source": [
    "## Linear Regression"
   ]
  },
  {
   "cell_type": "code",
   "execution_count": 13,
   "metadata": {},
   "outputs": [],
   "source": [
    "Northern_Hemisphere_df = weather_data.loc[weather_data['Lat'] > 0]\n",
    "Southern_Hemisphere_df = weather_data.loc[weather_data['Lat'] < 0]"
   ]
  },
  {
   "cell_type": "markdown",
   "metadata": {},
   "source": [
    "####  Northern Hemisphere - Max Temp vs. Latitude Linear Regression"
   ]
  },
  {
   "cell_type": "code",
   "execution_count": 16,
   "metadata": {},
   "outputs": [
    {
     "data": {
      "image/png": "[encoded data removed]",
      "text/plain": [
       "<Figure size 432x288 with 1 Axes>"
      ]
     },
     "metadata": {
      "needs_background": "light"
     },
     "output_type": "display_data"
    },
    {
     "name": "stdout",
     "output_type": "stream",
     "text": [
      "r = -0.8768731599346795\n"
     ]
    }
   ],
   "source": [
    "x_values = Northern_Hemisphere_df['Lat']\n",
    "y_values = Northern_Hemisphere_df['Temperature']\n",
    "(slope, intercept, rvalue, pvalue, stderr) = linregress(x_values, y_values)\n",
    "regress_values = x_values * slope + intercept\n",
    "line_eq = \"y = \" + str(round(slope,2)) + \"x + \" + str(round(intercept,2))\n",
    "plt.scatter(x_values,y_values)\n",
    "plt.plot(x_values,regress_values,\"r-\")\n",
    "plt.annotate(line_eq,(30,20),fontsize=15,color=\"red\")\n",
    "plt.xlabel('Latitude')\n",
    "plt.ylabel('Temperature (F)')\n",
    "plt.savefig('../output_data/Lat_v_Temp_North')\n",
    "plt.show()\n",
    "print(f'r = {rvalue}')"
   ]
  },
  {
   "cell_type": "markdown",
   "metadata": {},
   "source": [
    "####  Southern Hemisphere - Max Temp vs. Latitude Linear Regression"
   ]
  },
  {
   "cell_type": "code",
   "execution_count": 17,
   "metadata": {},
   "outputs": [
    {
     "data": {
      "image/png": "[encoded data removed]",
      "text/plain": [
       "<Figure size 432x288 with 1 Axes>"
      ]
     },
     "metadata": {
      "needs_background": "light"
     },
     "output_type": "display_data"
    },
    {
     "name": "stdout",
     "output_type": "stream",
     "text": [
      "r = 0.7581271776121985\n"
     ]
    }
   ],
   "source": [
    "x_values = Southern_Hemisphere_df['Lat']\n",
    "y_values = Southern_Hemisphere_df['Temperature']\n",
    "(slope, intercept, rvalue, pvalue, stderr) = linregress(x_values, y_values)\n",
    "regress_values = x_values * slope + intercept\n",
    "line_eq = \"y = \" + str(round(slope,2)) + \"x + \" + str(round(intercept,2))\n",
    "plt.scatter(x_values,y_values)\n",
    "plt.plot(x_values,regress_values,\"r-\")\n",
    "plt.annotate(line_eq,(30,20),fontsize=15,color=\"red\")\n",
    "plt.xlabel('Latitude')\n",
    "plt.ylabel('Temperature (F)')\n",
    "plt.savefig('../output_data/Lat_v_Temp_South')\n",
    "plt.show()\n",
    "print(f'r = {rvalue}')"
   ]
  },
  {
   "cell_type": "markdown",
   "metadata": {},
   "source": [
    "####  Northern Hemisphere - Humidity (%) vs. Latitude Linear Regression"
   ]
  },
  {
   "cell_type": "code",
   "execution_count": 18,
   "metadata": {},
   "outputs": [
    {
     "data": {
      "image/png": "[encoded data removed]",
      "text/plain": [
       "<Figure size 432x288 with 1 Axes>"
      ]
     },
     "metadata": {
      "needs_background": "light"
     },
     "output_type": "display_data"
    },
    {
     "name": "stdout",
     "output_type": "stream",
     "text": [
      "r = 0.15065554578202625\n"
     ]
    }
   ],
   "source": [
    "x_values = Northern_Hemisphere_df['Lat']\n",
    "y_values = Northern_Hemisphere_df['Humidity']\n",
    "(slope, intercept, rvalue, pvalue, stderr) = linregress(x_values, y_values)\n",
    "regress_values = x_values * slope + intercept\n",
    "line_eq = \"y = \" + str(round(slope,2)) + \"x + \" + str(round(intercept,2))\n",
    "plt.scatter(x_values,y_values)\n",
    "plt.plot(x_values,regress_values,\"r-\")\n",
    "plt.annotate(line_eq,(30,20),fontsize=15,color=\"red\")\n",
    "plt.xlabel('Latitude')\n",
    "plt.ylabel('Humidity (%)')\n",
    "plt.savefig('../output_data/Lat_v_Humidity_North')\n",
    "plt.show()\n",
    "print(f'r = {rvalue}')"
   ]
  },
  {
   "cell_type": "markdown",
   "metadata": {},
   "source": [
    "####  Southern Hemisphere - Humidity (%) vs. Latitude Linear Regression"
   ]
  },
  {
   "cell_type": "code",
   "execution_count": 19,
   "metadata": {},
   "outputs": [
    {
     "data": {
      "image/png": "[encoded data removed]",
      "text/plain": [
       "<Figure size 432x288 with 1 Axes>"
      ]
     },
     "metadata": {
      "needs_background": "light"
     },
     "output_type": "display_data"
    },
    {
     "name": "stdout",
     "output_type": "stream",
     "text": [
      "r = 0.1274828797354606\n"
     ]
    }
   ],
   "source": [
    "x_values = Southern_Hemisphere_df['Lat']\n",
    "y_values = Southern_Hemisphere_df['Humidity']\n",
    "(slope, intercept, rvalue, pvalue, stderr) = linregress(x_values, y_values)\n",
    "regress_values = x_values * slope + intercept\n",
    "line_eq = \"y = \" + str(round(slope,2)) + \"x + \" + str(round(intercept,2))\n",
    "plt.scatter(x_values,y_values)\n",
    "plt.plot(x_values,regress_values,\"r-\")\n",
    "plt.annotate(line_eq,(30,20),fontsize=15,color=\"red\")\n",
    "plt.xlabel('Latitude')\n",
    "plt.ylabel('Temperature (F)')\n",
    "plt.savefig('../output_data/Lat_v_Humidity_South')\n",
    "plt.show()\n",
    "print(f'r = {rvalue}')"
   ]
  },
  {
   "cell_type": "markdown",
   "metadata": {},
   "source": [
    "####  Northern Hemisphere - Cloudiness (%) vs. Latitude Linear Regression"
   ]
  },
  {
   "cell_type": "code",
   "execution_count": 20,
   "metadata": {},
   "outputs": [
    {
     "data": {
      "image/png": "[encoded data removed]",
      "text/plain": [
       "<Figure size 432x288 with 1 Axes>"
      ]
     },
     "metadata": {
      "needs_background": "light"
     },
     "output_type": "display_data"
    },
    {
     "name": "stdout",
     "output_type": "stream",
     "text": [
      "r = 0.011288741576024846\n"
     ]
    }
   ],
   "source": [
    "x_values = Northern_Hemisphere_df['Lat']\n",
    "y_values = Northern_Hemisphere_df['Cloudiness']\n",
    "(slope, intercept, rvalue, pvalue, stderr) = linregress(x_values, y_values)\n",
    "regress_values = x_values * slope + intercept\n",
    "line_eq = \"y = \" + str(round(slope,2)) + \"x + \" + str(round(intercept,2))\n",
    "plt.scatter(x_values,y_values)\n",
    "plt.plot(x_values,regress_values,\"r-\")\n",
    "plt.annotate(line_eq,(30,20),fontsize=15,color=\"red\")\n",
    "plt.xlabel('Latitude')\n",
    "plt.ylabel('Cloudiness (%)')\n",
    "plt.savefig('../output_data/Lat_v_Cloud_North')\n",
    "plt.show()\n",
    "print(f'r = {rvalue}')"
   ]
  },
  {
   "cell_type": "markdown",
   "metadata": {},
   "source": [
    "####  Southern Hemisphere - Cloudiness (%) vs. Latitude Linear Regression"
   ]
  },
  {
   "cell_type": "code",
   "execution_count": 21,
   "metadata": {},
   "outputs": [
    {
     "data": {
      "image/png": "[encoded data removed]",
      "text/plain": [
       "<Figure size 432x288 with 1 Axes>"
      ]
     },
     "metadata": {
      "needs_background": "light"
     },
     "output_type": "display_data"
    },
    {
     "name": "stdout",
     "output_type": "stream",
     "text": [
      "r = 0.3480440015360558\n"
     ]
    }
   ],
   "source": [
    "x_values = Southern_Hemisphere_df['Lat']\n",
    "y_values = Southern_Hemisphere_df['Cloudiness']\n",
    "(slope, intercept, rvalue, pvalue, stderr) = linregress(x_values, y_values)\n",
    "regress_values = x_values * slope + intercept\n",
    "line_eq = \"y = \" + str(round(slope,2)) + \"x + \" + str(round(intercept,2))\n",
    "plt.scatter(x_values,y_values)\n",
    "plt.plot(x_values,regress_values,\"r-\")\n",
    "plt.annotate(line_eq,(30,20),fontsize=15,color=\"red\")\n",
    "plt.xlabel('Latitude')\n",
    "plt.ylabel('Temperature (F)')\n",
    "plt.savefig('../output_data/Lat_v_Cloud_South')\n",
    "plt.show()\n",
    "print(f'r = {rvalue}')"
   ]
  },
  {
   "cell_type": "markdown",
   "metadata": {},
   "source": [
    "####  Northern Hemisphere - Wind Speed (mph) vs. Latitude Linear Regression"
   ]
  },
  {
   "cell_type": "code",
   "execution_count": 22,
   "metadata": {},
   "outputs": [
    {
     "data": {
      "image/png": "[encoded data removed]",
      "text/plain": [
       "<Figure size 432x288 with 1 Axes>"
      ]
     },
     "metadata": {
      "needs_background": "light"
     },
     "output_type": "display_data"
    },
    {
     "name": "stdout",
     "output_type": "stream",
     "text": [
      "r = -0.00780463156806798\n"
     ]
    }
   ],
   "source": [
    "x_values = Northern_Hemisphere_df['Lat']\n",
    "y_values = Northern_Hemisphere_df['Wind Speed']\n",
    "(slope, intercept, rvalue, pvalue, stderr) = linregress(x_values, y_values)\n",
    "regress_values = x_values * slope + intercept\n",
    "line_eq = \"y = \" + str(round(slope,2)) + \"x + \" + str(round(intercept,2))\n",
    "plt.scatter(x_values,y_values)\n",
    "plt.plot(x_values,regress_values,\"r-\")\n",
    "plt.annotate(line_eq,(30,20),fontsize=15,color=\"red\")\n",
    "plt.xlabel('Latitude')\n",
    "plt.ylabel('Wind Speed (mph)')\n",
    "plt.savefig('../output_data/Lat_v_Wind_North')\n",
    "plt.show()\n",
    "print(f'r = {rvalue}')"
   ]
  },
  {
   "cell_type": "markdown",
   "metadata": {},
   "source": [
    "####  Southern Hemisphere - Wind Speed (mph) vs. Latitude Linear Regression"
   ]
  },
  {
   "cell_type": "code",
   "execution_count": 23,
   "metadata": {},
   "outputs": [
    {
     "data": {
      "image/png": "[encoded data removed]",
      "text/plain": [
       "<Figure size 432x288 with 1 Axes>"
      ]
     },
     "metadata": {
      "needs_background": "light"
     },
     "output_type": "display_data"
    },
    {
     "name": "stdout",
     "output_type": "stream",
     "text": [
      "r = -0.22701214831359864\n"
     ]
    }
   ],
   "source": [
    "x_values = Southern_Hemisphere_df['Lat']\n",
    "y_values = Southern_Hemisphere_df['Wind Speed']\n",
    "(slope, intercept, rvalue, pvalue, stderr) = linregress(x_values, y_values)\n",
    "regress_values = x_values * slope + intercept\n",
    "line_eq = \"y = \" + str(round(slope,2)) + \"x + \" + str(round(intercept,2))\n",
    "plt.scatter(x_values,y_values)\n",
    "plt.plot(x_values,regress_values,\"r-\")\n",
    "plt.annotate(line_eq,(30,20),fontsize=15,color=\"red\")\n",
    "plt.xlabel('Latitude')\n",
    "plt.ylabel('Temperature (F)')\n",
    "plt.savefig('../output_data/Lat_v_Wind_South')\n",
    "plt.show()\n",
    "print(f'r = {rvalue}')"
   ]
  },
  {
   "cell_type": "code",
   "execution_count": null,
   "metadata": {},
   "outputs": [],
   "source": [
    "'''\n",
    "We find, based on the data, that there is little to no correlation between wind speed and latitude as well as cloudiness and latitude in the northern hemisphere.\n",
    "We find, based on the data, to be a moderate-strong correlation between temperature and latitude in both the northern and southern hemispheres.\n",
    "We find, based on the data, to be a weak correlation between wind speed and latitude in the southern hemisphere.\n",
    "'''"
   ]
  }
 ],
 "metadata": {
  "anaconda-cloud": {},
  "kernel_info": {
   "name": "python3"
  },
  "kernelspec": {
   "display_name": "Python 3 (ipykernel)",
   "language": "python",
   "name": "python3"
  },
  "language_info": {
   "codemirror_mode": {
    "name": "ipython",
    "version": 3
   },
   "file_extension": ".py",
   "mimetype": "text/x-python",
   "name": "python",
   "nbconvert_exporter": "python",
   "pygments_lexer": "ipython3",
   "version": "3.8.12"
  },
  "latex_envs": {
   "LaTeX_envs_menu_present": true,
   "autoclose": false,
   "autocomplete": true,
   "bibliofile": "biblio.bib",
   "cite_by": "apalike",
   "current_citInitial": 1,
   "eqLabelWithNumbers": true,
   "eqNumInitial": 1,
   "hotkeys": {
    "equation": "Ctrl-E",
    "itemize": "Ctrl-I"
   },
   "labels_anchors": false,
   "latex_user_defs": false,
   "report_style_numbering": false,
   "user_envs_cfg": false
  },
  "nteract": {
   "version": "0.12.3"
  }
 },
 "nbformat": 4,
 "nbformat_minor": 2
}
